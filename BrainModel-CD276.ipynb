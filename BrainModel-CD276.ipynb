{
 "cells": [
  {
   "cell_type": "code",
   "execution_count": 1,
   "metadata": {},
   "outputs": [
    {
     "name": "stderr",
     "output_type": "stream",
     "text": [
      "Using TensorFlow backend.\n"
     ]
    }
   ],
   "source": [
    "# Author: Guoqing Bao\n",
    "# School of Computer Science, The University of Sydney\n",
    "# Date: 2019-12-12\n",
    "# GitHub Project Link: https://github.com/guoqingbao/Pathofusion\n",
    "# Please cite our work if you found it is useful for your research or clinical practice\n",
    "\n",
    "import os\n",
    "# os.environ[\"CUDA_VISIBLE_DEVICES\"]=\"0\"\n",
    "import gc\n",
    "gc.enable()\n",
    "import warnings;\n",
    "warnings.filterwarnings('ignore');\n",
    "import tensorflow as tf\n",
    "import sqlite3\n",
    "%matplotlib inline \n",
    "import matplotlib.pyplot as plt\n",
    "from PIL import Image\n",
    "import pandas as pd\n",
    "import numpy as np\n",
    "from scipy import interp\n",
    "import matplotlib.pyplot as plt\n",
    "from itertools import cycle\n",
    "from sklearn.metrics import roc_curve, auc, roc_auc_score, precision_recall_fscore_support\n",
    "# from sklearn import cross_validation, metrics\n",
    "from sklearn.metrics import f1_score,confusion_matrix, classification_report, accuracy_score\n",
    "\n",
    "\n",
    "import torch.optim as optim\n",
    "import torch.backends.cudnn as cudnn\n",
    "from tqdm import tqdm\n",
    "\n",
    "# config = tf.ConfigProto(allow_soft_placement=True)\n",
    "# config.gpu_options.allocator_type = 'BFC'\n",
    "# config.gpu_options.per_process_gpu_memory_fraction = 0.40\n",
    "# config.gpu_options.allow_growth=True\n",
    "from io import StringIO\n",
    "\n",
    "# import helper function (database manupulation, image augmentation, plot performance, train, etc.)\n",
    "from project.models.helper import *\n",
    "\n",
    "# import our BCNN from models\n",
    "from project.models.bcnn import BCNN"
   ]
  },
  {
   "cell_type": "code",
   "execution_count": 2,
   "metadata": {},
   "outputs": [
    {
     "name": "stdout",
     "output_type": "stream",
     "text": [
      "Schema exists\n",
      "\n",
      "Schema exists\n",
      "\n"
     ]
    }
   ],
   "source": [
    "project_path = './project/brain/'\n",
    "path = project_path + \"results/bcnn/\"\n",
    "\n",
    "conn_256 = create_or_open_db(project_path + \"data/cd276_labeling_256.db\")\n",
    "conn_512 = create_or_open_db(project_path + \"data/cd276_labeling_512.db\")"
   ]
  },
  {
   "cell_type": "code",
   "execution_count": 3,
   "metadata": {},
   "outputs": [
    {
     "name": "stdout",
     "output_type": "stream",
     "text": [
      "Schema exists\n",
      "\n"
     ]
    }
   ],
   "source": [
    "# for ihc images, \"load_data\" convert type to positive (type>0) and negative expression (type==0)\n",
    "x_train, y_train, x_test, y_test = load_data(project_path + \"data/cd276_labeling_256.db\", test_ids=test_patient_ids, ihc=True) # patch ID and type\n",
    "trainLoader = DataGenerator(x_train, y_train, connections=[conn_256, conn_512], image_sizes=[256,512], augment=True, classes=2)\n",
    "testLoader = DataGenerator(x_test, y_test, connections=[conn_256, conn_512], image_sizes=[256,512], augment=False, classes=2)"
   ]
  },
  {
   "cell_type": "code",
   "execution_count": 4,
   "metadata": {},
   "outputs": [
    {
     "name": "stdout",
     "output_type": "stream",
     "text": [
      "Number of model parameters: 11617250\n"
     ]
    }
   ],
   "source": [
    "model = BCNN(2, False)\n",
    "print('Number of model parameters: {}'.format(\n",
    "        sum([p.data.nelement() for p in model.parameters()])))"
   ]
  },
  {
   "cell_type": "code",
   "execution_count": 5,
   "metadata": {},
   "outputs": [],
   "source": [
    "# load the model if we have trained\n",
    "if os.path.exists(path + 'torch_model_cd276.h5'):\n",
    "    checkPoint = torch.load(path + 'torch_model_cd276.h5')\n",
    "    model.load_state_dict(checkPoint)\n",
    "    model = nn.DataParallel(model).cuda()"
   ]
  },
  {
   "cell_type": "code",
   "execution_count": 6,
   "metadata": {},
   "outputs": [
    {
     "name": "stderr",
     "output_type": "stream",
     "text": [
      "                                                                                \r"
     ]
    },
    {
     "name": "stdout",
     "output_type": "stream",
     "text": [
      "Epoch\tLearningRate\tTrainLoss\tTestLoss\tTrainAcc.\tTestAcc.\tEndTime.\n"
     ]
    },
    {
     "name": "stderr",
     "output_type": "stream",
     "text": [
      "  0%|          | 0/229 [00:00<?, ?it/s]"
     ]
    },
    {
     "name": "stdout",
     "output_type": "stream",
     "text": [
      "1\t0.000100\t1.192758\t0.328818\t74.688740\t86.657816\t12/12 13:22:14\n"
     ]
    },
    {
     "name": "stderr",
     "output_type": "stream",
     "text": [
      "  0%|          | 0/229 [00:00<?, ?it/s]                                         "
     ]
    },
    {
     "name": "stdout",
     "output_type": "stream",
     "text": [
      "2\t0.000100\t0.491923\t0.266588\t93.405391\t88.184534\t12/12 13:24:58\n"
     ]
    },
    {
     "name": "stderr",
     "output_type": "stream",
     "text": [
      "  0%|          | 0/229 [00:00<?, ?it/s]                                         "
     ]
    },
    {
     "name": "stdout",
     "output_type": "stream",
     "text": [
      "3\t0.000100\t0.361257\t0.233271\t94.910384\t88.981082\t12/12 13:27:46\n"
     ]
    },
    {
     "name": "stderr",
     "output_type": "stream",
     "text": [
      "  0%|          | 0/229 [00:00<?, ?it/s]                                         "
     ]
    },
    {
     "name": "stdout",
     "output_type": "stream",
     "text": [
      "4\t0.000099\t0.297302\t0.167680\t95.758654\t93.528045\t12/12 13:30:32\n"
     ]
    },
    {
     "name": "stderr",
     "output_type": "stream",
     "text": [
      "  0%|          | 0/229 [00:00<?, ?it/s]                                         "
     ]
    },
    {
     "name": "stdout",
     "output_type": "stream",
     "text": [
      "5\t0.000098\t0.266843\t0.148342\t96.100698\t94.623299\t12/12 13:33:18\n"
     ]
    },
    {
     "name": "stderr",
     "output_type": "stream",
     "text": [
      "  0%|          | 0/229 [00:00<?, ?it/s]                                         "
     ]
    },
    {
     "name": "stdout",
     "output_type": "stream",
     "text": [
      "6\t0.000098\t0.238225\t0.215702\t96.620605\t90.640558\t12/12 13:36:05\n"
     ]
    },
    {
     "name": "stderr",
     "output_type": "stream",
     "text": [
      "  0%|          | 0/229 [00:00<?, ?it/s]                                         "
     ]
    },
    {
     "name": "stdout",
     "output_type": "stream",
     "text": [
      "7\t0.000096\t0.221604\t0.186685\t96.894240\t91.968138\t12/12 13:38:53\n"
     ]
    },
    {
     "name": "stderr",
     "output_type": "stream",
     "text": [
      "  0%|          | 0/229 [00:00<?, ?it/s]                                         "
     ]
    },
    {
     "name": "stdout",
     "output_type": "stream",
     "text": [
      "8\t0.000095\t0.217973\t0.164411\t96.825831\t93.162961\t12/12 13:41:41\n"
     ]
    },
    {
     "name": "stderr",
     "output_type": "stream",
     "text": [
      "  0%|          | 0/229 [00:00<?, ?it/s]                                         "
     ]
    },
    {
     "name": "stdout",
     "output_type": "stream",
     "text": [
      "9\t0.000094\t0.206384\t0.143700\t97.058421\t94.590110\t12/12 13:44:27\n"
     ]
    },
    {
     "name": "stderr",
     "output_type": "stream",
     "text": [
      "  0%|          | 0/229 [00:00<?, ?it/s]                                         "
     ]
    },
    {
     "name": "stdout",
     "output_type": "stream",
     "text": [
      "10\t0.000092\t0.198837\t0.111099\t97.126830\t96.116827\t12/12 13:47:14\n"
     ]
    },
    {
     "name": "stderr",
     "output_type": "stream",
     "text": [
      "  0%|          | 0/229 [00:00<?, ?it/s]                                         "
     ]
    },
    {
     "name": "stdout",
     "output_type": "stream",
     "text": [
      "11\t0.000090\t0.184839\t0.198602\t97.455192\t91.868570\t12/12 13:50:00\n"
     ]
    },
    {
     "name": "stderr",
     "output_type": "stream",
     "text": [
      "  0%|          | 0/229 [00:00<?, ?it/s]                                         "
     ]
    },
    {
     "name": "stdout",
     "output_type": "stream",
     "text": [
      "12\t0.000089\t0.185458\t0.144088\t97.291011\t94.357783\t12/12 13:52:48\n"
     ]
    },
    {
     "name": "stderr",
     "output_type": "stream",
     "text": [
      "  0%|          | 0/229 [00:00<?, ?it/s]                                         "
     ]
    },
    {
     "name": "stdout",
     "output_type": "stream",
     "text": [
      "13\t0.000086\t0.178487\t0.113626\t97.455192\t95.851311\t12/12 13:55:32\n"
     ]
    },
    {
     "name": "stderr",
     "output_type": "stream",
     "text": [
      "  0%|          | 0/229 [00:00<?, ?it/s]                                         "
     ]
    },
    {
     "name": "stdout",
     "output_type": "stream",
     "text": [
      "14\t0.000084\t0.167000\t0.149619\t97.633055\t94.059077\t12/12 13:58:19\n"
     ]
    },
    {
     "name": "stderr",
     "output_type": "stream",
     "text": [
      "  0%|          | 0/229 [00:00<?, ?it/s]                                         "
     ]
    },
    {
     "name": "stdout",
     "output_type": "stream",
     "text": [
      "15\t0.000082\t0.163311\t0.124613\t97.660419\t95.253900\t12/12 14:01:05\n"
     ]
    },
    {
     "name": "stderr",
     "output_type": "stream",
     "text": [
      "  0%|          | 0/229 [00:00<?, ?it/s]                                         "
     ]
    },
    {
     "name": "stdout",
     "output_type": "stream",
     "text": [
      "16\t0.000079\t0.149223\t0.134215\t97.783555\t94.888815\t12/12 14:03:51\n"
     ]
    },
    {
     "name": "stderr",
     "output_type": "stream",
     "text": [
      "  0%|          | 0/229 [00:00<?, ?it/s]                                         "
     ]
    },
    {
     "name": "stdout",
     "output_type": "stream",
     "text": [
      "17\t0.000077\t0.145669\t0.151769\t97.906690\t94.092267\t12/12 14:06:38\n"
     ]
    },
    {
     "name": "stderr",
     "output_type": "stream",
     "text": [
      "  0%|          | 0/229 [00:00<?, ?it/s]                                         "
     ]
    },
    {
     "name": "stdout",
     "output_type": "stream",
     "text": [
      "18\t0.000074\t0.141536\t0.216078\t97.947736\t90.706937\t12/12 14:09:15\n"
     ]
    },
    {
     "name": "stderr",
     "output_type": "stream",
     "text": [
      "  0%|          | 0/229 [00:00<?, ?it/s]                                         "
     ]
    },
    {
     "name": "stdout",
     "output_type": "stream",
     "text": [
      "19\t0.000071\t0.134081\t0.118081\t98.125599\t95.784932\t12/12 14:11:54\n"
     ]
    },
    {
     "name": "stderr",
     "output_type": "stream",
     "text": [
      "  0%|          | 0/229 [00:00<?, ?it/s]                                         "
     ]
    },
    {
     "name": "stdout",
     "output_type": "stream",
     "text": [
      "20\t0.000068\t0.136484\t0.125252\t97.975099\t95.552605\t12/12 14:14:32\n"
     ]
    },
    {
     "name": "stderr",
     "output_type": "stream",
     "text": [
      "  0%|          | 0/229 [00:00<?, ?it/s]                                         "
     ]
    },
    {
     "name": "stdout",
     "output_type": "stream",
     "text": [
      "21\t0.000065\t0.129545\t0.125424\t98.070872\t95.253900\t12/12 14:17:12\n"
     ]
    },
    {
     "name": "stderr",
     "output_type": "stream",
     "text": [
      "  0%|          | 0/229 [00:00<?, ?it/s]                                         "
     ]
    },
    {
     "name": "stdout",
     "output_type": "stream",
     "text": [
      "22\t0.000062\t0.121584\t0.131932\t98.344507\t94.988384\t12/12 14:19:52\n"
     ]
    },
    {
     "name": "stderr",
     "output_type": "stream",
     "text": [
      "  0%|          | 0/229 [00:00<?, ?it/s]                                         "
     ]
    },
    {
     "name": "stdout",
     "output_type": "stream",
     "text": [
      "23\t0.000059\t0.114767\t0.115864\t98.481324\t95.287089\t12/12 14:22:32\n"
     ]
    },
    {
     "name": "stderr",
     "output_type": "stream",
     "text": [
      "  0%|          | 0/229 [00:00<?, ?it/s]                                         "
     ]
    },
    {
     "name": "stdout",
     "output_type": "stream",
     "text": [
      "24\t0.000056\t0.111156\t0.113925\t98.426597\t95.851311\t12/12 14:25:12\n"
     ]
    },
    {
     "name": "stderr",
     "output_type": "stream",
     "text": [
      "  0%|          | 0/229 [00:00<?, ?it/s]                                         "
     ]
    },
    {
     "name": "stdout",
     "output_type": "stream",
     "text": [
      "25\t0.000053\t0.103096\t0.277970\t98.631824\t87.786260\t12/12 14:27:50\n"
     ]
    },
    {
     "name": "stderr",
     "output_type": "stream",
     "text": [
      "  0%|          | 0/229 [00:00<?, ?it/s]                                         "
     ]
    },
    {
     "name": "stdout",
     "output_type": "stream",
     "text": [
      "26\t0.000050\t0.103914\t0.123870\t98.631824\t95.353468\t12/12 14:30:32\n"
     ]
    },
    {
     "name": "stderr",
     "output_type": "stream",
     "text": [
      "  0%|          | 0/229 [00:00<?, ?it/s]                                         "
     ]
    },
    {
     "name": "stdout",
     "output_type": "stream",
     "text": [
      "27\t0.000050\t0.103259\t0.113450\t98.604460\t95.818121\t12/12 14:33:14\n"
     ]
    },
    {
     "name": "stderr",
     "output_type": "stream",
     "text": [
      "  0%|          | 0/229 [00:00<?, ?it/s]                                         "
     ]
    },
    {
     "name": "stdout",
     "output_type": "stream",
     "text": [
      "28\t0.000050\t0.096937\t0.177739\t98.713914\t92.930634\t12/12 14:35:56\n"
     ]
    },
    {
     "name": "stderr",
     "output_type": "stream",
     "text": [
      "  0%|          | 0/229 [00:00<?, ?it/s]                                         "
     ]
    },
    {
     "name": "stdout",
     "output_type": "stream",
     "text": [
      "29\t0.000050\t0.094611\t0.378882\t98.809687\t82.841022\t12/12 14:38:34\n"
     ]
    },
    {
     "name": "stderr",
     "output_type": "stream",
     "text": [
      "  0%|          | 0/229 [00:00<?, ?it/s]                                         "
     ]
    },
    {
     "name": "stdout",
     "output_type": "stream",
     "text": [
      "30\t0.000050\t0.094212\t0.121967\t98.631824\t95.618984\t12/12 14:41:19\n"
     ]
    },
    {
     "name": "stderr",
     "output_type": "stream",
     "text": [
      "  0%|          | 0/229 [00:00<?, ?it/s]                                         "
     ]
    },
    {
     "name": "stdout",
     "output_type": "stream",
     "text": [
      "31\t0.000050\t0.085838\t0.115725\t98.946504\t95.751742\t12/12 14:44:00\n"
     ]
    },
    {
     "name": "stderr",
     "output_type": "stream",
     "text": [
      "  0%|          | 0/229 [00:00<?, ?it/s]                                         "
     ]
    },
    {
     "name": "stdout",
     "output_type": "stream",
     "text": [
      "32\t0.000050\t0.078196\t0.124715\t99.001231\t95.320279\t12/12 14:46:43\n"
     ]
    },
    {
     "name": "stderr",
     "output_type": "stream",
     "text": [
      "  0%|          | 0/229 [00:00<?, ?it/s]                                         "
     ]
    },
    {
     "name": "stdout",
     "output_type": "stream",
     "text": [
      "33\t0.000050\t0.082813\t0.166576\t99.014913\t93.295719\t12/12 14:49:24\n"
     ]
    },
    {
     "name": "stderr",
     "output_type": "stream",
     "text": [
      "  0%|          | 0/229 [00:00<?, ?it/s]                                         "
     ]
    },
    {
     "name": "stdout",
     "output_type": "stream",
     "text": [
      "34\t0.000050\t0.086401\t0.148472\t99.014913\t94.656489\t12/12 14:52:05\n"
     ]
    },
    {
     "name": "stderr",
     "output_type": "stream",
     "text": [
      "  0%|          | 0/229 [00:00<?, ?it/s]                                         "
     ]
    },
    {
     "name": "stdout",
     "output_type": "stream",
     "text": [
      "35\t0.000050\t0.079511\t0.139595\t99.001231\t94.722868\t12/12 14:54:43\n"
     ]
    },
    {
     "name": "stderr",
     "output_type": "stream",
     "text": [
      "  0%|          | 0/229 [00:00<?, ?it/s]                                         "
     ]
    },
    {
     "name": "stdout",
     "output_type": "stream",
     "text": [
      "36\t0.000050\t0.075325\t0.115899\t99.028595\t95.652174\t12/12 14:57:19\n"
     ]
    },
    {
     "name": "stderr",
     "output_type": "stream",
     "text": [
      "  0%|          | 0/229 [00:00<?, ?it/s]                                         "
     ]
    },
    {
     "name": "stdout",
     "output_type": "stream",
     "text": [
      "37\t0.000050\t0.072472\t0.124634\t99.042277\t95.220710\t12/12 14:59:47\n"
     ]
    },
    {
     "name": "stderr",
     "output_type": "stream",
     "text": [
      "  0%|          | 0/229 [00:00<?, ?it/s]                                         "
     ]
    },
    {
     "name": "stdout",
     "output_type": "stream",
     "text": [
      "38\t0.000050\t0.072355\t0.127653\t99.179094\t95.187521\t12/12 15:02:14\n"
     ]
    },
    {
     "name": "stderr",
     "output_type": "stream",
     "text": [
      "  0%|          | 0/229 [00:00<?, ?it/s]                                         "
     ]
    },
    {
     "name": "stdout",
     "output_type": "stream",
     "text": [
      "39\t0.000050\t0.070343\t0.117239\t99.206458\t95.851311\t12/12 15:04:41\n"
     ]
    },
    {
     "name": "stderr",
     "output_type": "stream",
     "text": [
      "  0%|          | 0/229 [00:00<?, ?it/s]                                         "
     ]
    },
    {
     "name": "stdout",
     "output_type": "stream",
     "text": [
      "40\t0.000050\t0.069340\t0.106796\t99.247503\t96.017259\t12/12 15:07:08\n"
     ]
    },
    {
     "name": "stderr",
     "output_type": "stream",
     "text": [
      "  0%|          | 0/229 [00:00<?, ?it/s]                                         "
     ]
    },
    {
     "name": "stdout",
     "output_type": "stream",
     "text": [
      "41\t0.000050\t0.067800\t0.113380\t99.192776\t95.984069\t12/12 15:09:35\n"
     ]
    },
    {
     "name": "stderr",
     "output_type": "stream",
     "text": [
      "  0%|          | 0/229 [00:00<?, ?it/s]                                         "
     ]
    },
    {
     "name": "stdout",
     "output_type": "stream",
     "text": [
      "42\t0.000050\t0.070170\t0.112900\t99.233821\t96.050448\t12/12 15:12:03\n"
     ]
    },
    {
     "name": "stderr",
     "output_type": "stream",
     "text": [
      "  0%|          | 0/229 [00:00<?, ?it/s]                                         "
     ]
    },
    {
     "name": "stdout",
     "output_type": "stream",
     "text": [
      "43\t0.000050\t0.065437\t0.113942\t99.343275\t96.150017\t12/12 15:14:31\n"
     ]
    },
    {
     "name": "stderr",
     "output_type": "stream",
     "text": [
      "  0%|          | 0/229 [00:00<?, ?it/s]                                         "
     ]
    },
    {
     "name": "stdout",
     "output_type": "stream",
     "text": [
      "44\t0.000050\t0.066268\t0.111628\t99.261185\t96.183206\t12/12 15:16:58\n"
     ]
    },
    {
     "name": "stderr",
     "output_type": "stream",
     "text": [
      "  0%|          | 0/229 [00:00<?, ?it/s]                                         "
     ]
    },
    {
     "name": "stdout",
     "output_type": "stream",
     "text": [
      "45\t0.000050\t0.063682\t0.119780\t99.302230\t95.818121\t12/12 15:19:26\n"
     ]
    },
    {
     "name": "stderr",
     "output_type": "stream",
     "text": [
      "  0%|          | 0/229 [00:00<?, ?it/s]                                         "
     ]
    },
    {
     "name": "stdout",
     "output_type": "stream",
     "text": [
      "46\t0.000050\t0.062846\t0.112238\t99.411684\t96.216396\t12/12 15:21:54\n"
     ]
    },
    {
     "name": "stderr",
     "output_type": "stream",
     "text": [
      "  0%|          | 0/229 [00:00<?, ?it/s]                                         "
     ]
    },
    {
     "name": "stdout",
     "output_type": "stream",
     "text": [
      "47\t0.000050\t0.063911\t0.115335\t99.343275\t96.050448\t12/12 15:24:22\n"
     ]
    },
    {
     "name": "stderr",
     "output_type": "stream",
     "text": [
      "  0%|          | 0/229 [00:00<?, ?it/s]                                         "
     ]
    },
    {
     "name": "stdout",
     "output_type": "stream",
     "text": [
      "48\t0.000050\t0.064203\t0.114232\t99.356957\t96.216396\t12/12 15:26:51\n"
     ]
    },
    {
     "name": "stderr",
     "output_type": "stream",
     "text": [
      "  0%|          | 0/229 [00:00<?, ?it/s]                                         "
     ]
    },
    {
     "name": "stdout",
     "output_type": "stream",
     "text": [
      "49\t0.000050\t0.065531\t0.114944\t99.261185\t96.083638\t12/12 15:29:18\n"
     ]
    },
    {
     "name": "stderr",
     "output_type": "stream",
     "text": [
      "                                                                                \r"
     ]
    },
    {
     "name": "stdout",
     "output_type": "stream",
     "text": [
      "50\t0.000050\t0.060522\t0.116470\t99.480093\t96.116827\t12/12 15:31:46\n"
     ]
    }
   ],
   "source": [
    "# otherwise, train the model and save (we only save the last epoch model)\n",
    "if not os.path.exists(path + 'torch_model_cd276.h5'):\n",
    "    history = train(model, trainLoader, testLoader, multiinputs=True, epochs=50, base_lr=0.0001, weight_decay=0.005, log_path=path, log_file='cd276_train_test.log')\n",
    "    torch.save(model.state_dict(), path + 'torch_model_cd276.h5')\n",
    "    np.save(path + 'train_test_history_cd276.npy', np.array(history.history))"
   ]
  },
  {
   "cell_type": "code",
   "execution_count": 7,
   "metadata": {},
   "outputs": [],
   "source": [
    "history = np.load(path + 'train_test_history_cd276.npy',allow_pickle=True)"
   ]
  },
  {
   "cell_type": "code",
   "execution_count": 8,
   "metadata": {},
   "outputs": [
    {
     "name": "stderr",
     "output_type": "stream",
     "text": [
      "findfont: Font family ['sans-serif'] not found. Falling back to DejaVu Sans.\n",
      "findfont: Font family ['sans-serif'] not found. Falling back to DejaVu Sans.\n"
     ]
    },
    {
     "data": {
      "image/png": "[encoded data removed]",
      "text/plain": [
       "<Figure size 720x576 with 1 Axes>"
      ]
     },
     "metadata": {},
     "output_type": "display_data"
    }
   ],
   "source": [
    "# let's plot the train/test history\n",
    "trains, tests = show_train_history([history.item()], 'acc', 'val_acc', path, 'train_test_history_cd276')"
   ]
  },
  {
   "cell_type": "code",
   "execution_count": null,
   "metadata": {},
   "outputs": [],
   "source": []
  },
  {
   "cell_type": "code",
   "execution_count": 6,
   "metadata": {},
   "outputs": [
    {
     "name": "stdout",
     "output_type": "stream",
     "text": [
      "External Testing accuracy 0.9611682708264189\n",
      "\n"
     ]
    }
   ],
   "source": [
    "#let's see the test results\n",
    "model.eval()\n",
    "probas_ = []\n",
    "with torch.no_grad():\n",
    "    for i in range(len(testLoader)):\n",
    "        [x1, x2], t = testLoader[i]\n",
    "        m1, m2, t = Variable(torch.FloatTensor(x1).cuda()), Variable(torch.FloatTensor(x2).cuda()), \\\n",
    "                        Variable(torch.LongTensor(t.tolist()).cuda())\n",
    "        y = model(m1, m2)\n",
    "        probas_.extend(F.softmax(y).cpu().numpy().tolist())\n",
    "probas_ = np.array(probas_)\n",
    "pred = np.argmax(probas_,axis=1) \n",
    "ac = accuracy_score(y_test, pred)\n",
    "print(\"External Testing accuracy {}\\r\\n\".format(ac))"
   ]
  },
  {
   "cell_type": "code",
   "execution_count": 11,
   "metadata": {},
   "outputs": [
    {
     "data": {
      "image/png": "[encoded data removed]",
      "text/plain": [
       "<Figure size 432x360 with 2 Axes>"
      ]
     },
     "metadata": {
      "needs_background": "light"
     },
     "output_type": "display_data"
    }
   ],
   "source": [
    "from sklearn.metrics import multilabel_confusion_matrix,confusion_matrix, ConfusionMatrixDisplay\n",
    "from keras.utils import to_categorical\n",
    "fig = plt.figure(figsize=(6,5))\n",
    "ax1 = fig.add_subplot(1,1,1)\n",
    "classesnames = ['Positive', 'Negative']\n",
    "\n",
    "cm = confusion_matrix(y_test, pred, labels=[0,1], normalize='true')\n",
    "disp = ConfusionMatrixDisplay(confusion_matrix=cm, display_labels=classesnames)\n",
    "disp.plot(include_values=True,cmap='Greys', ax=ax1, xticks_rotation=90,values_format='.2f')\n",
    "\n",
    "\n",
    "fig.tight_layout()\n",
    "fig.savefig(path + 'confusion_matrix_cd276.svg',format='svg')\n",
    "\n",
    "# confusion_matrix(to_categorical(y_test,num_classes=6,dtype='int32'), to_categorical(pred,num_classes=6,dtype='int32'))"
   ]
  },
  {
   "cell_type": "code",
   "execution_count": 10,
   "metadata": {},
   "outputs": [
    {
     "data": {
      "text/html": [
       "<div>\n",
       "<style scoped>\n",
       "    .dataframe tbody tr th:only-of-type {\n",
       "        vertical-align: middle;\n",
       "    }\n",
       "\n",
       "    .dataframe tbody tr th {\n",
       "        vertical-align: top;\n",
       "    }\n",
       "\n",
       "    .dataframe thead th {\n",
       "        text-align: right;\n",
       "    }\n",
       "</style>\n",
       "<table border=\"1\" class=\"dataframe\">\n",
       "  <thead>\n",
       "    <tr style=\"text-align: right;\">\n",
       "      <th></th>\n",
       "      <th>precision</th>\n",
       "      <th>recall</th>\n",
       "      <th>f1-score</th>\n",
       "      <th>accuracy</th>\n",
       "    </tr>\n",
       "  </thead>\n",
       "  <tbody>\n",
       "    <tr>\n",
       "      <th>0</th>\n",
       "      <td>0.962177</td>\n",
       "      <td>0.961168</td>\n",
       "      <td>0.961339</td>\n",
       "      <td>0.961168</td>\n",
       "    </tr>\n",
       "    <tr>\n",
       "      <th>Average</th>\n",
       "      <td>0.962177</td>\n",
       "      <td>0.961168</td>\n",
       "      <td>0.961339</td>\n",
       "      <td>0.961168</td>\n",
       "    </tr>\n",
       "  </tbody>\n",
       "</table>\n",
       "</div>"
      ],
      "text/plain": [
       "         precision    recall  f1-score  accuracy\n",
       "0         0.962177  0.961168  0.961339  0.961168\n",
       "Average   0.962177  0.961168  0.961339  0.961168"
      ]
     },
     "execution_count": 10,
     "metadata": {},
     "output_type": "execute_result"
    }
   ],
   "source": [
    "# and other test metrics\n",
    "\n",
    "precision_recall_fscore = []\n",
    "\n",
    "prf = precision_recall_fscore_support(y_test, pred,average = \"weighted\")\n",
    "ac = accuracy_score(y_test, pred)\n",
    "\n",
    "precision_recall_fscore.append([prf[0],prf[1],prf[2],ac])\n",
    "\n",
    "metrics = pd.DataFrame(np.array(precision_recall_fscore), columns=['precision','recall','f1-score','accuracy'])\n",
    "mean_values = []\n",
    "for i in range(4):\n",
    "    mean_values.append(np.mean(np.array(precision_recall_fscore)[:,i]))\n",
    "metrics = metrics.append(pd.Series(mean_values, index=metrics.columns, name=\"Average\"))\n",
    "metrics.to_excel(path + 'test_metrics_cd276.xlsx')\n",
    "metrics"
   ]
  },
  {
   "cell_type": "code",
   "execution_count": 17,
   "metadata": {},
   "outputs": [],
   "source": [
    "def roc_plot(n_classes_, y_tests_,y_prediction_proba_, path, filename ):\n",
    "    # plt.rcParams['font.sans-serif']=['Arial']\n",
    "    plt.rcParams['axes.unicode_minus']=False \n",
    "#     plt.grid(linestyle = \"--\")\n",
    "    ax = plt.gca()\n",
    "#     ax.spines['top'].set_visible(False)\n",
    "#     ax.spines['right'].set_visible(False)\n",
    "    fig = plt.gcf()\n",
    "    fig.set_size_inches(5.5, 4.5)\n",
    "\n",
    "    tprs_all = []\n",
    "    aucs_all = []\n",
    "    mean_fpr = np.linspace(0, 1, 100)\n",
    "\n",
    "    auc_values = []\n",
    "    classesnames = ['Positive', 'Negative']\n",
    "    colors = ['red', 'cyan','green']\n",
    "    for j in range(n_classes_):\n",
    "        tprs = []\n",
    "        aucs = []        \n",
    "        for i in range(len(y_tests_)):\n",
    "            fpr, tpr, thresholds = roc_curve(to_categorical(y_tests_[i],num_classes=n_classes_)[:, j], y_prediction_proba_[i][:, j])\n",
    "            tprs.append(interp(mean_fpr, fpr, tpr))\n",
    "            tprs_all.append(interp(mean_fpr, fpr, tpr))\n",
    "\n",
    "            tprs[-1][0] = 0.0\n",
    "            roc_auc = auc(fpr, tpr)\n",
    "            aucs.append(roc_auc)\n",
    "            aucs_all.append(roc_auc)\n",
    "\n",
    "\n",
    "        if len(y_tests_)== 1:\n",
    "            mean_tpr = tprs[0]\n",
    "            mean_tpr[-1] = 1.0\n",
    "            mean_auc = auc(mean_fpr, mean_tpr)\n",
    "            plt.plot(mean_fpr, mean_tpr, color=colors[j],\n",
    "                     label=r'%d. %s - ROC (AUC=%0.3f)' % (j+1,classesnames[j], mean_auc), linestyle='--',\n",
    "                     lw=1., alpha=1)\n",
    "            auc_values.append(mean_auc)\n",
    "            \n",
    "        else:\n",
    "            mean_tpr = np.mean(tprs, axis=0)\n",
    "            mean_tpr[-1] = 1.0\n",
    "            mean_auc = auc(mean_fpr, mean_tpr)\n",
    "            std_auc = np.std(aucs)\n",
    "            plt.plot(mean_fpr, mean_tpr, color=colors[j],\n",
    "                     label=r' %d. %s - Mean ROC (AUC=%0.3f$\\pm$%0.3f)' % (j+1, classesnames[j], mean_auc, std_auc),linestyle='--',\n",
    "                     lw=1., alpha=1)\n",
    "            auc_values.append(mean_auc)\n",
    "\n",
    "    mean_tpr = np.mean(tprs_all, axis=0)\n",
    "    mean_tpr[0] = .0\n",
    "    mean_tpr[-1] = 1.0\n",
    "    \n",
    "    if n_classes_ > 1:\n",
    "        plt.plot(mean_fpr, mean_tpr, color=colors[-1],\n",
    "                 label=r'Mean ROC (AUC=%0.3f$\\pm$%0.3f)' % (np.mean(auc_values),  np.std(auc_values)),\n",
    "                 lw=2, alpha=1)\n",
    "        \n",
    "    plt.plot([0, 1], [0, 1], linestyle='--', lw=2, color='black',label='Chance', alpha=1)\n",
    "\n",
    "\n",
    "\n",
    "    std_tpr = np.std(tprs_all, axis=0)\n",
    "    tprs_upper = np.minimum(mean_tpr + std_tpr, 1)\n",
    "    tprs_lower = np.maximum(mean_tpr - std_tpr, 0)\n",
    "    plt.fill_between(mean_fpr, tprs_lower, tprs_upper, color='grey', alpha=.1,\n",
    "                     label=r'$\\pm$ 1 std. dev.')\n",
    "\n",
    "    plt.xlim([0., 1.0])\n",
    "    plt.ylim([0., 1.0])\n",
    "\n",
    "    plt.xlabel('False Positive Rate',fontsize=14)\n",
    "    plt.ylabel('True Positive Rate',fontsize=14)\n",
    "    plt.legend(loc=\"lower right\", fontsize=12)\n",
    "\n",
    "\n",
    "    ax.xaxis.set_tick_params(labelsize=14)\n",
    "    ax.yaxis.set_tick_params(labelsize=14)\n",
    "    plt.tight_layout()\n",
    "    plt.savefig(path + filename + '.svg',format='svg')\n",
    "\n",
    "    plt.show()\n",
    "    return mean_tpr, auc_values"
   ]
  },
  {
   "cell_type": "code",
   "execution_count": 18,
   "metadata": {},
   "outputs": [
    {
     "data": {
      "image/png": "[encoded data removed]",
      "text/plain": [
       "<Figure size 396x324 with 1 Axes>"
      ]
     },
     "metadata": {
      "needs_background": "light"
     },
     "output_type": "display_data"
    }
   ],
   "source": [
    "# the test roc/auc\n",
    "\n",
    "yts=[]\n",
    "yts.append(y_test)\n",
    "pbs=[]\n",
    "pbs.append(probas_)\n",
    "mean_tpr, auc_values = roc_plot(2,yts,pbs, path,'roc_2class_test_cd276_conference')"
   ]
  },
  {
   "cell_type": "code",
   "execution_count": 7,
   "metadata": {},
   "outputs": [
    {
     "data": {
      "image/png": "[encoded data removed]",
      "text/plain": [
       "<Figure size 396x324 with 1 Axes>"
      ]
     },
     "metadata": {},
     "output_type": "display_data"
    }
   ],
   "source": [
    "# the test roc/auc\n",
    "classesnames = ['Positive', 'Negative']\n",
    "colors = ['red', 'cyan','black']\n",
    "yts=[]\n",
    "yts.append(y_test)\n",
    "pbs=[]\n",
    "pbs.append(probas_)\n",
    "mean_tpr, auc_values = roc_plot(2,yts,pbs, classesnames, colors, path,'roc_2class_test_cd276')"
   ]
  },
  {
   "cell_type": "code",
   "execution_count": 12,
   "metadata": {},
   "outputs": [],
   "source": [
    "#save for later comparison\n",
    "np.save(path + 'roc_2class_test_mean_tpr_cd276.npy',mean_tpr)\n",
    "np.save(path + 'roc_2class_test_auc_values_cd276.npy',auc_values)"
   ]
  },
  {
   "cell_type": "code",
   "execution_count": 3,
   "metadata": {},
   "outputs": [
    {
     "data": {
      "text/plain": [
       "0.9882052380736424"
      ]
     },
     "execution_count": 3,
     "metadata": {},
     "output_type": "execute_result"
    }
   ],
   "source": [
    "import numpy as np\n",
    "np.mean(np.load(path + 'roc_2class_test_auc_values_cd276.npy'))"
   ]
  },
  {
   "cell_type": "code",
   "execution_count": null,
   "metadata": {},
   "outputs": [],
   "source": []
  },
  {
   "cell_type": "markdown",
   "metadata": {},
   "source": [
    "# For Conference"
   ]
  },
  {
   "cell_type": "code",
   "execution_count": 9,
   "metadata": {},
   "outputs": [],
   "source": [
    "classesnames = ['Positive', 'Negative']\n",
    "def roc_plot(n_classes_, y_tests_,y_prediction_proba_, path, filename ):\n",
    "    # plt.rcParams['font.sans-serif']=['Arial']\n",
    "    plt.rcParams['axes.unicode_minus']=False \n",
    "#     plt.grid(linestyle = \"--\")\n",
    "    ax = plt.gca()\n",
    "#     ax.spines['top'].set_visible(False)\n",
    "#     ax.spines['right'].set_visible(False)\n",
    "    fig = plt.gcf()\n",
    "    fig.set_size_inches(6, 5)\n",
    "\n",
    "    tprs_all = []\n",
    "    aucs_all = []\n",
    "    mean_fpr = np.linspace(0, 1, 100)\n",
    "\n",
    "    auc_values = []\n",
    "    colors = ['red', 'cyan','yellow','lightgrey','green','green']\n",
    "    for j in range(n_classes_):\n",
    "        tprs = []\n",
    "        aucs = []        \n",
    "        for i in range(len(y_tests_)):\n",
    "            fpr, tpr, thresholds = roc_curve(to_categorical(y_tests_[i],num_classes=n_classes_)[:, j], y_prediction_proba_[i][:, j])\n",
    "            tprs.append(interp(mean_fpr, fpr, tpr))\n",
    "            tprs_all.append(interp(mean_fpr, fpr, tpr))\n",
    "\n",
    "            tprs[-1][0] = 0.0\n",
    "            roc_auc = auc(fpr, tpr)\n",
    "            aucs.append(roc_auc)\n",
    "            aucs_all.append(roc_auc)\n",
    "\n",
    "\n",
    "        if len(y_tests_)== 1:\n",
    "            mean_tpr = tprs[0]\n",
    "            mean_tpr[-1] = 1.0\n",
    "            mean_auc = auc(mean_fpr, mean_tpr)\n",
    "            plt.plot(mean_fpr, mean_tpr, color=colors[j],\n",
    "                     label=r'%d. %s - ROC (AUC=%0.3f)' % (j+1,classesnames[j], mean_auc), linestyle='--',\n",
    "                     lw=1., alpha=1)\n",
    "            auc_values.append(mean_auc)\n",
    "            \n",
    "        else:\n",
    "            mean_tpr = np.mean(tprs, axis=0)\n",
    "            mean_tpr[-1] = 1.0\n",
    "            mean_auc = auc(mean_fpr, mean_tpr)\n",
    "            std_auc = np.std(aucs)\n",
    "            plt.plot(mean_fpr, mean_tpr, color=colors[j],\n",
    "                     label=r' %d. %s - Mean ROC (AUC=%0.3f$\\pm$%0.3f)' % (j+1, classesnames[j], mean_auc, std_auc),linestyle='--',\n",
    "                     lw=1., alpha=1)\n",
    "            auc_values.append(mean_auc)\n",
    "\n",
    "    mean_tpr = np.mean(tprs_all, axis=0)\n",
    "    mean_tpr[0] = .0\n",
    "    mean_tpr[-1] = 1.0\n",
    "    \n",
    "    if n_classes_ > 1:\n",
    "        plt.plot(mean_fpr, mean_tpr, color=colors[-1],\n",
    "                 label=r'Mean ROC (AUC=%0.3f$\\pm$%0.3f)' % (np.mean(auc_values),  np.std(auc_values)),\n",
    "                 lw=2, alpha=1)\n",
    "        \n",
    "    plt.plot([0, 1], [0, 1], linestyle='--', lw=2, color='black',label='Chance', alpha=1)\n",
    "\n",
    "\n",
    "\n",
    "    std_tpr = np.std(tprs_all, axis=0)\n",
    "    tprs_upper = np.minimum(mean_tpr + std_tpr, 1)\n",
    "    tprs_lower = np.maximum(mean_tpr - std_tpr, 0)\n",
    "    plt.fill_between(mean_fpr, tprs_lower, tprs_upper, color='grey', alpha=.1,\n",
    "                     label=r'$\\pm$ 1 std. dev.')\n",
    "\n",
    "    plt.xlim([0., 1.0])\n",
    "    plt.ylim([0., 1.0])\n",
    "\n",
    "    plt.xlabel('False Positive Rate',fontsize=10)\n",
    "    plt.ylabel('True Positive Rate',fontsize=10)\n",
    "    plt.legend(loc=\"lower right\")\n",
    "\n",
    "\n",
    "    ax.xaxis.set_tick_params(labelsize=10)\n",
    "    ax.yaxis.set_tick_params(labelsize=10)\n",
    "    plt.tight_layout()\n",
    "    plt.savefig(path + filename + '.svg',format='svg')\n",
    "\n",
    "    plt.show()\n",
    "    return mean_tpr, auc_values"
   ]
  },
  {
   "cell_type": "code",
   "execution_count": 10,
   "metadata": {},
   "outputs": [
    {
     "data": {
      "image/png": "[encoded data removed]",
      "text/plain": [
       "<Figure size 432x360 with 1 Axes>"
      ]
     },
     "metadata": {},
     "output_type": "display_data"
    }
   ],
   "source": [
    "yts=[]\n",
    "yts.append(y_test)\n",
    "pbs=[]\n",
    "pbs.append(probas_)\n",
    "mean_tpr, auc_values = roc_plot(2,yts,pbs, path, 'roc_2class_test_cd276_conference')"
   ]
  },
  {
   "cell_type": "code",
   "execution_count": null,
   "metadata": {},
   "outputs": [],
   "source": []
  }
 ],
 "metadata": {
  "kernelspec": {
   "display_name": "Python 3",
   "language": "python",
   "name": "python3"
  },
  "language_info": {
   "codemirror_mode": {
    "name": "ipython",
    "version": 3
   },
   "file_extension": ".py",
   "mimetype": "text/x-python",
   "name": "python",
   "nbconvert_exporter": "python",
   "pygments_lexer": "ipython3",
   "version": "3.6.4"
  }
 },
 "nbformat": 4,
 "nbformat_minor": 4
}
